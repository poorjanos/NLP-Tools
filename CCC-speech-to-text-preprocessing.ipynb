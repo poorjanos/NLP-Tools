{
 "cells": [
  {
   "cell_type": "markdown",
   "metadata": {},
   "source": [
    "# Check Call Length Distribution and Get Sample"
   ]
  },
  {
   "cell_type": "code",
   "execution_count": 34,
   "metadata": {},
   "outputs": [
    {
     "data": {
      "text/html": [
       "<div>\n",
       "<style scoped>\n",
       "    .dataframe tbody tr th:only-of-type {\n",
       "        vertical-align: middle;\n",
       "    }\n",
       "\n",
       "    .dataframe tbody tr th {\n",
       "        vertical-align: top;\n",
       "    }\n",
       "\n",
       "    .dataframe thead th {\n",
       "        text-align: right;\n",
       "    }\n",
       "</style>\n",
       "<table border=\"1\" class=\"dataframe\">\n",
       "  <thead>\n",
       "    <tr style=\"text-align: right;\">\n",
       "      <th></th>\n",
       "      <th>file_name</th>\n",
       "      <th>length[min]</th>\n",
       "      <th>size[Kb]</th>\n",
       "    </tr>\n",
       "  </thead>\n",
       "  <tbody>\n",
       "    <tr>\n",
       "      <th>0</th>\n",
       "      <td>./Data/ccc-speech-to-text\\0701431C2.mp3</td>\n",
       "      <td>19.4628</td>\n",
       "      <td>4562.0</td>\n",
       "    </tr>\n",
       "    <tr>\n",
       "      <th>1</th>\n",
       "      <td>./Data/ccc-speech-to-text\\07211613C1.mp3</td>\n",
       "      <td>4.1400</td>\n",
       "      <td>970.0</td>\n",
       "    </tr>\n",
       "    <tr>\n",
       "      <th>2</th>\n",
       "      <td>./Data/ccc-speech-to-text\\07313221C2.mp3</td>\n",
       "      <td>2.4732</td>\n",
       "      <td>580.0</td>\n",
       "    </tr>\n",
       "    <tr>\n",
       "      <th>3</th>\n",
       "      <td>./Data/ccc-speech-to-text\\07372317C1.mp3</td>\n",
       "      <td>3.6744</td>\n",
       "      <td>861.0</td>\n",
       "    </tr>\n",
       "    <tr>\n",
       "      <th>4</th>\n",
       "      <td>./Data/ccc-speech-to-text\\07402311C2.mp3</td>\n",
       "      <td>1.3872</td>\n",
       "      <td>325.0</td>\n",
       "    </tr>\n",
       "    <tr>\n",
       "      <th>...</th>\n",
       "      <td>...</td>\n",
       "      <td>...</td>\n",
       "      <td>...</td>\n",
       "    </tr>\n",
       "    <tr>\n",
       "      <th>1455</th>\n",
       "      <td>./Data/ccc-speech-to-text\\17475591C1.mp3</td>\n",
       "      <td>6.6876</td>\n",
       "      <td>1567.0</td>\n",
       "    </tr>\n",
       "    <tr>\n",
       "      <th>1456</th>\n",
       "      <td>./Data/ccc-speech-to-text\\181129118C2.mp3</td>\n",
       "      <td>2.8968</td>\n",
       "      <td>679.0</td>\n",
       "    </tr>\n",
       "    <tr>\n",
       "      <th>1457</th>\n",
       "      <td>./Data/ccc-speech-to-text\\183428136C2.mp3</td>\n",
       "      <td>5.1072</td>\n",
       "      <td>1197.0</td>\n",
       "    </tr>\n",
       "    <tr>\n",
       "      <th>1458</th>\n",
       "      <td>./Data/ccc-speech-to-text\\184119141C2.mp3</td>\n",
       "      <td>4.0308</td>\n",
       "      <td>945.0</td>\n",
       "    </tr>\n",
       "    <tr>\n",
       "      <th>1459</th>\n",
       "      <td>./Data/ccc-speech-to-text\\184653147C2.mp3</td>\n",
       "      <td>10.0464</td>\n",
       "      <td>2355.0</td>\n",
       "    </tr>\n",
       "  </tbody>\n",
       "</table>\n",
       "<p>1460 rows × 3 columns</p>\n",
       "</div>"
      ],
      "text/plain": [
       "                                      file_name  length[min]  size[Kb]\n",
       "0       ./Data/ccc-speech-to-text\\0701431C2.mp3      19.4628    4562.0\n",
       "1      ./Data/ccc-speech-to-text\\07211613C1.mp3       4.1400     970.0\n",
       "2      ./Data/ccc-speech-to-text\\07313221C2.mp3       2.4732     580.0\n",
       "3      ./Data/ccc-speech-to-text\\07372317C1.mp3       3.6744     861.0\n",
       "4      ./Data/ccc-speech-to-text\\07402311C2.mp3       1.3872     325.0\n",
       "...                                         ...          ...       ...\n",
       "1455   ./Data/ccc-speech-to-text\\17475591C1.mp3       6.6876    1567.0\n",
       "1456  ./Data/ccc-speech-to-text\\181129118C2.mp3       2.8968     679.0\n",
       "1457  ./Data/ccc-speech-to-text\\183428136C2.mp3       5.1072    1197.0\n",
       "1458  ./Data/ccc-speech-to-text\\184119141C2.mp3       4.0308     945.0\n",
       "1459  ./Data/ccc-speech-to-text\\184653147C2.mp3      10.0464    2355.0\n",
       "\n",
       "[1460 rows x 3 columns]"
      ]
     },
     "execution_count": 34,
     "metadata": {},
     "output_type": "execute_result"
    }
   ],
   "source": [
    "import numpy as np\n",
    "import pandas as pd\n",
    "import os\n",
    "from mutagen.mp3 import MP3\n",
    "import glob\n",
    "\n",
    "filenames = glob.glob('./Data/ccc-speech-to-text/*mp3')\n",
    "file_name_and_length = {}\n",
    "\n",
    "for file in filenames:\n",
    "    audio = MP3(file)\n",
    "    file_name_and_length[file] = (audio.info.length/60, round(os.path.getsize(file)/1024, 0))                                                  \n",
    "                                  \n",
    "df = pd.DataFrame.from_dict(file_name_and_length, orient='index')\n",
    "df.reset_index(inplace = True)\n",
    "df.columns = ['file_name', 'length[min]', 'size[Kb]']\n",
    "df"
   ]
  },
  {
   "cell_type": "code",
   "execution_count": 35,
   "metadata": {},
   "outputs": [
    {
     "data": {
      "text/html": [
       "<div>\n",
       "<style scoped>\n",
       "    .dataframe tbody tr th:only-of-type {\n",
       "        vertical-align: middle;\n",
       "    }\n",
       "\n",
       "    .dataframe tbody tr th {\n",
       "        vertical-align: top;\n",
       "    }\n",
       "\n",
       "    .dataframe thead th {\n",
       "        text-align: right;\n",
       "    }\n",
       "</style>\n",
       "<table border=\"1\" class=\"dataframe\">\n",
       "  <thead>\n",
       "    <tr style=\"text-align: right;\">\n",
       "      <th></th>\n",
       "      <th>length[min]</th>\n",
       "      <th>size[Kb]</th>\n",
       "    </tr>\n",
       "  </thead>\n",
       "  <tbody>\n",
       "    <tr>\n",
       "      <th>count</th>\n",
       "      <td>1460.000000</td>\n",
       "      <td>1460.000000</td>\n",
       "    </tr>\n",
       "    <tr>\n",
       "      <th>mean</th>\n",
       "      <td>5.351999</td>\n",
       "      <td>1254.376712</td>\n",
       "    </tr>\n",
       "    <tr>\n",
       "      <th>std</th>\n",
       "      <td>4.107634</td>\n",
       "      <td>962.729167</td>\n",
       "    </tr>\n",
       "    <tr>\n",
       "      <th>min</th>\n",
       "      <td>0.013200</td>\n",
       "      <td>3.000000</td>\n",
       "    </tr>\n",
       "    <tr>\n",
       "      <th>25%</th>\n",
       "      <td>2.889000</td>\n",
       "      <td>677.500000</td>\n",
       "    </tr>\n",
       "    <tr>\n",
       "      <th>50%</th>\n",
       "      <td>4.175400</td>\n",
       "      <td>978.500000</td>\n",
       "    </tr>\n",
       "    <tr>\n",
       "      <th>75%</th>\n",
       "      <td>6.551700</td>\n",
       "      <td>1535.250000</td>\n",
       "    </tr>\n",
       "    <tr>\n",
       "      <th>max</th>\n",
       "      <td>39.994800</td>\n",
       "      <td>9374.000000</td>\n",
       "    </tr>\n",
       "  </tbody>\n",
       "</table>\n",
       "</div>"
      ],
      "text/plain": [
       "       length[min]     size[Kb]\n",
       "count  1460.000000  1460.000000\n",
       "mean      5.351999  1254.376712\n",
       "std       4.107634   962.729167\n",
       "min       0.013200     3.000000\n",
       "25%       2.889000   677.500000\n",
       "50%       4.175400   978.500000\n",
       "75%       6.551700  1535.250000\n",
       "max      39.994800  9374.000000"
      ]
     },
     "execution_count": 35,
     "metadata": {},
     "output_type": "execute_result"
    }
   ],
   "source": [
    "df.describe()"
   ]
  },
  {
   "cell_type": "code",
   "execution_count": 36,
   "metadata": {
    "scrolled": false
   },
   "outputs": [
    {
     "data": {
      "text/plain": [
       "array([[<matplotlib.axes._subplots.AxesSubplot object at 0x0000023783C6B0B8>,\n",
       "        <matplotlib.axes._subplots.AxesSubplot object at 0x0000023783D687F0>]],\n",
       "      dtype=object)"
      ]
     },
     "execution_count": 36,
     "metadata": {},
     "output_type": "execute_result"
    },
    {
     "data": {
      "image/png": "[encoded data removed]",
      "text/plain": [
       "<Figure size 432x288 with 2 Axes>"
      ]
     },
     "metadata": {
      "needs_background": "light"
     },
     "output_type": "display_data"
    }
   ],
   "source": [
    "df.hist(bins=50)"
   ]
  },
  {
   "cell_type": "code",
   "execution_count": 38,
   "metadata": {},
   "outputs": [
    {
     "data": {
      "text/html": [
       "<div>\n",
       "<style scoped>\n",
       "    .dataframe tbody tr th:only-of-type {\n",
       "        vertical-align: middle;\n",
       "    }\n",
       "\n",
       "    .dataframe tbody tr th {\n",
       "        vertical-align: top;\n",
       "    }\n",
       "\n",
       "    .dataframe thead th {\n",
       "        text-align: right;\n",
       "    }\n",
       "</style>\n",
       "<table border=\"1\" class=\"dataframe\">\n",
       "  <thead>\n",
       "    <tr style=\"text-align: right;\">\n",
       "      <th></th>\n",
       "      <th>length[min]</th>\n",
       "      <th>size[Kb]</th>\n",
       "    </tr>\n",
       "  </thead>\n",
       "  <tbody>\n",
       "    <tr>\n",
       "      <th>count</th>\n",
       "      <td>1018.000000</td>\n",
       "      <td>1018.000000</td>\n",
       "    </tr>\n",
       "    <tr>\n",
       "      <th>mean</th>\n",
       "      <td>4.168490</td>\n",
       "      <td>976.996071</td>\n",
       "    </tr>\n",
       "    <tr>\n",
       "      <th>std</th>\n",
       "      <td>1.405319</td>\n",
       "      <td>329.369443</td>\n",
       "    </tr>\n",
       "    <tr>\n",
       "      <th>min</th>\n",
       "      <td>2.005200</td>\n",
       "      <td>470.000000</td>\n",
       "    </tr>\n",
       "    <tr>\n",
       "      <th>25%</th>\n",
       "      <td>3.067500</td>\n",
       "      <td>719.000000</td>\n",
       "    </tr>\n",
       "    <tr>\n",
       "      <th>50%</th>\n",
       "      <td>3.948000</td>\n",
       "      <td>925.500000</td>\n",
       "    </tr>\n",
       "    <tr>\n",
       "      <th>75%</th>\n",
       "      <td>5.117100</td>\n",
       "      <td>1199.500000</td>\n",
       "    </tr>\n",
       "    <tr>\n",
       "      <th>max</th>\n",
       "      <td>7.496400</td>\n",
       "      <td>1757.000000</td>\n",
       "    </tr>\n",
       "  </tbody>\n",
       "</table>\n",
       "</div>"
      ],
      "text/plain": [
       "       length[min]     size[Kb]\n",
       "count  1018.000000  1018.000000\n",
       "mean      4.168490   976.996071\n",
       "std       1.405319   329.369443\n",
       "min       2.005200   470.000000\n",
       "25%       3.067500   719.000000\n",
       "50%       3.948000   925.500000\n",
       "75%       5.117100  1199.500000\n",
       "max       7.496400  1757.000000"
      ]
     },
     "execution_count": 38,
     "metadata": {},
     "output_type": "execute_result"
    }
   ],
   "source": [
    "sample = df.loc[(df['length[min]'] >= 2) & (df['length[min]'] <= 7.5), :]\n",
    "sample.describe()"
   ]
  }
 ],
 "metadata": {
  "kernelspec": {
   "display_name": "Python 3",
   "language": "python",
   "name": "python3"
  },
  "language_info": {
   "codemirror_mode": {
    "name": "ipython",
    "version": 3
   },
   "file_extension": ".py",
   "mimetype": "text/x-python",
   "name": "python",
   "nbconvert_exporter": "python",
   "pygments_lexer": "ipython3",
   "version": "3.6.10"
  }
 },
 "nbformat": 4,
 "nbformat_minor": 4
}
