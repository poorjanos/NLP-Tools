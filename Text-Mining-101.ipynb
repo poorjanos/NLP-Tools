{
 "cells": [
  {
   "cell_type": "markdown",
   "execution_count": null,
   "metadata": {},
   "outputs": [],
   "source": [
    "## Read Data"
   ]
  },
  {
   "cell_type": "code",
   "execution_count": 15,
   "metadata": {},
   "outputs": [
    {
     "data": {
      "text/html": "<div>\n<style scoped>\n    .dataframe tbody tr th:only-of-type {\n        vertical-align: middle;\n    }\n\n    .dataframe tbody tr th {\n        vertical-align: top;\n    }\n\n    .dataframe thead th {\n        text-align: right;\n    }\n</style>\n<table border=\"1\" class=\"dataframe\">\n  <thead>\n    <tr style=\"text-align: right;\">\n      <th></th>\n      <th>file_name</th>\n      <th>text</th>\n    </tr>\n  </thead>\n  <tbody>\n    <tr>\n      <th>0</th>\n      <td>./Data\\09415616C1 HKR vágott.txt</td>\n      <td>kibővült az eddigi szolgáltatási összeg az Aeg...</td>\n    </tr>\n    <tr>\n      <th>1</th>\n      <td>./Data\\111951940C1 vágott.txt</td>\n      <td>Üdvözlöm kereslek Jó napot kívánok Én ready fi...</td>\n    </tr>\n    <tr>\n      <th>2</th>\n      <td>./Data\\112905428C1 GB vágott.txt</td>\n      <td>örököltem egy lakást Vagyis te feleségemre van...</td>\n    </tr>\n    <tr>\n      <th>3</th>\n      <td>./Data\\113251125C1 LB vágott.txt</td>\n      <td>Miben segíthetek önnek Érdeklődni szeretnék ho...</td>\n    </tr>\n    <tr>\n      <th>4</th>\n      <td>./Data\\123615343C1 Timó vágott.txt</td>\n      <td>Na vagyok és kaptam kötöttem önöknél egy gépjá...</td>\n    </tr>\n  </tbody>\n</table>\n</div>",
      "text/plain": "                            file_name  \\\n0    ./Data\\09415616C1 HKR vágott.txt   \n1       ./Data\\111951940C1 vágott.txt   \n2    ./Data\\112905428C1 GB vágott.txt   \n3    ./Data\\113251125C1 LB vágott.txt   \n4  ./Data\\123615343C1 Timó vágott.txt   \n\n                                                text  \n0  kibővült az eddigi szolgáltatási összeg az Aeg...  \n1  Üdvözlöm kereslek Jó napot kívánok Én ready fi...  \n2  örököltem egy lakást Vagyis te feleségemre van...  \n3  Miben segíthetek önnek Érdeklődni szeretnék ho...  \n4  Na vagyok és kaptam kötöttem önöknél egy gépjá...  "
     },
     "execution_count": 15,
     "metadata": {},
     "output_type": "execute_result"
    }
   ],
   "source": [
    "import pandas as pd\n",
    "import io\n",
    "import glob\n",
    "\n",
    "filenames = glob.glob('./Data/*txt')\n",
    "file_name_and_text = {}\n",
    "\n",
    "for file in filenames:\n",
    "    with open(file, mode=\"r\", encoding=\"utf-8\") as target_file:\n",
    "         file_name_and_text[file] = target_file.read()\n",
    "\n",
    "df = pd.DataFrame.from_dict(file_name_and_text, orient='index')\n",
    "df.reset_index(inplace = True)\n",
    "df.columns = ['file_name', 'text']"
   ]
  }
 ],
 "metadata": {
  "kernelspec": {
   "name": "python3",
   "display_name": "Python 3"
  }
 },
 "nbformat": 4,
 "nbformat_minor": 4
}